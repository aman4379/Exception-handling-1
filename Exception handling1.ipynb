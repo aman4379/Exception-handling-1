{
 "cells": [
  {
   "cell_type": "markdown",
   "id": "bd3ce0cc-74f6-47c0-8b85-cc8f32560440",
   "metadata": {},
   "source": [
    "Q.1 What is an exception in python? Write the difference between exceptions and syntax error."
   ]
  },
  {
   "cell_type": "code",
   "execution_count": null,
   "id": "64865353-c210-44bd-aedc-bc0622b450cc",
   "metadata": {},
   "outputs": [],
   "source": [
    "Ans If you have some suspicious code that may raise an exception, you can defend your program by placing \n",
    "    the suspicious code in a try: block. After the try: block, include an except: statement, followed by a \n",
    "    block of code which handles the problem as elegantly as possible.\n",
    "    Syntax Errors\n",
    "    Let’s start with syntax errors, (also known as parsing errors).\n",
    "    The parser repeats the offending line and displays an ‘arrow’ pointing at the earliest point in the line \n",
    "    where the error was detected.\n",
    "    Exceptions\n",
    "    Even if a statement or expression is syntactically correct, it may cause an error when an attempt is made\n",
    "    to execute it.\n",
    "    Errors detected during execution are called exceptions."
   ]
  },
  {
   "cell_type": "markdown",
   "id": "5e84ce9a-4d54-42e7-8040-4d565ebc1be6",
   "metadata": {},
   "source": [
    "Q.2 What happens when an exception is not handled? Explain with an example"
   ]
  },
  {
   "cell_type": "code",
   "execution_count": null,
   "id": "0f13688c-e5a0-4b9e-bd9a-15127f8d7455",
   "metadata": {},
   "outputs": [],
   "source": [
    "Ans When an exception is not handled than the execution of code will stop at that line of code only and no \n",
    "    further code will be executed."
   ]
  },
  {
   "cell_type": "code",
   "execution_count": 1,
   "id": "87635a12-d6a4-43fd-b0fb-03e36901bb24",
   "metadata": {},
   "outputs": [
    {
     "ename": "ZeroDivisionError",
     "evalue": "division by zero",
     "output_type": "error",
     "traceback": [
      "\u001b[0;31m---------------------------------------------------------------------------\u001b[0m",
      "\u001b[0;31mZeroDivisionError\u001b[0m                         Traceback (most recent call last)",
      "Cell \u001b[0;32mIn[1], line 2\u001b[0m\n\u001b[1;32m      1\u001b[0m a \u001b[38;5;241m=\u001b[39m \u001b[38;5;241m8\u001b[39m\u001b[38;5;241m+\u001b[39m\u001b[38;5;241m4\u001b[39m\n\u001b[0;32m----> 2\u001b[0m b \u001b[38;5;241m=\u001b[39m \u001b[43ma\u001b[49m\u001b[38;5;241;43m/\u001b[39;49m\u001b[38;5;241;43m0\u001b[39;49m\n\u001b[1;32m      3\u001b[0m \u001b[38;5;28mprint\u001b[39m(\u001b[38;5;124m'\u001b[39m\u001b[38;5;124mline after the error code line\u001b[39m\u001b[38;5;124m'\u001b[39m)\n",
      "\u001b[0;31mZeroDivisionError\u001b[0m: division by zero"
     ]
    }
   ],
   "source": [
    "a = 8+4\n",
    "b = a/0\n",
    "print('line after the error code line')"
   ]
  },
  {
   "cell_type": "markdown",
   "id": "1d579440-1db3-4392-b7cf-00362df21597",
   "metadata": {},
   "source": [
    "Q.3 Which python statements are used to catch and handle exceptions? Explain with an example"
   ]
  },
  {
   "cell_type": "code",
   "execution_count": null,
   "id": "3314c3b5-6579-405c-a044-31f4d4808950",
   "metadata": {},
   "outputs": [],
   "source": [
    "Ans The statements used to catch and handled exceptions are:\n",
    "    1. try\n",
    "    2. except\n",
    "    3. else \n",
    "    4. finally"
   ]
  },
  {
   "cell_type": "code",
   "execution_count": 2,
   "id": "aed9ef3d-fc99-48ef-a4ef-80193e78641f",
   "metadata": {},
   "outputs": [
    {
     "name": "stdout",
     "output_type": "stream",
     "text": [
      "this will executed only when my try block is executed without error\n"
     ]
    }
   ],
   "source": [
    "try:\n",
    "    f = open(\"test.txt\",\"w\")\n",
    "    f.write('hello world this is my file')\n",
    "except Exception as e :\n",
    "    print(\"This is my except block\",e)\n",
    "else:\n",
    "    f.close()\n",
    "    print('this will executed only when my try block is executed without error')"
   ]
  },
  {
   "cell_type": "code",
   "execution_count": null,
   "id": "2d3a6736-e76b-4951-b80e-d932cb067faf",
   "metadata": {},
   "outputs": [],
   "source": [
    "Q.4 Explain with example\n",
    "    a. try and else\n",
    "    b. finally\n",
    "    c. raise"
   ]
  },
  {
   "cell_type": "code",
   "execution_count": null,
   "id": "710498ed-cee6-446e-963e-2fc48462d16d",
   "metadata": {},
   "outputs": [],
   "source": [
    "Ans try and else:\n",
    "    try is the keyword used under which we write the condition we want to check or in which error could be \n",
    "    occured and else is the keyword used when we want to execute a condition only when try is executed without \n",
    "    error."
   ]
  },
  {
   "cell_type": "code",
   "execution_count": 4,
   "id": "eacfa7af-dedd-46fe-9302-f7d08b63e8ba",
   "metadata": {},
   "outputs": [
    {
     "name": "stdout",
     "output_type": "stream",
     "text": [
      "try run without any error\n"
     ]
    }
   ],
   "source": [
    "try:\n",
    "    c = 6+8*4/2\n",
    "except Exception as e:\n",
    "    print('exception block')\n",
    "else:\n",
    "    print('try run without any error')"
   ]
  },
  {
   "cell_type": "code",
   "execution_count": null,
   "id": "b98d5091-3678-4a9f-9e94-0d450ff1ddbd",
   "metadata": {},
   "outputs": [],
   "source": [
    "finally:-  finally is used in exception handling when we want something should be run without bothring weather \n",
    "           try generates an error or not."
   ]
  },
  {
   "cell_type": "code",
   "execution_count": 8,
   "id": "ca172ce1-3ad0-42e6-80f5-9aae1760d742",
   "metadata": {},
   "outputs": [
    {
     "name": "stdout",
     "output_type": "stream",
     "text": [
      "finally is executed\n"
     ]
    }
   ],
   "source": [
    "try:\n",
    "    c = 6+8*4/2\n",
    "except Exception as e:\n",
    "    print('exception block')\n",
    "finally:\n",
    "    print('finally is executed')"
   ]
  },
  {
   "cell_type": "code",
   "execution_count": 9,
   "id": "a50653e5-7421-4542-80bd-4ddc1950c495",
   "metadata": {},
   "outputs": [
    {
     "name": "stdout",
     "output_type": "stream",
     "text": [
      "exception block\n",
      "finally is executed\n"
     ]
    }
   ],
   "source": [
    "try:\n",
    "    c = 9/0\n",
    "except Exception as e:\n",
    "    print('exception block')\n",
    "finally:\n",
    "    print('finally is executed')"
   ]
  },
  {
   "cell_type": "code",
   "execution_count": null,
   "id": "0936b54d-4192-426a-994d-a4720d84fd15",
   "metadata": {},
   "outputs": [],
   "source": [
    "raise:- raise is used when we generate the function for custom exception handling"
   ]
  },
  {
   "cell_type": "code",
   "execution_count": 10,
   "id": "1af3caf2-c3b0-4764-a273-5e90b5ebad7f",
   "metadata": {},
   "outputs": [],
   "source": [
    "class validateage(Exception):\n",
    "    def __init__(self,msg):\n",
    "        self.msg = msg"
   ]
  },
  {
   "cell_type": "code",
   "execution_count": 11,
   "id": "8da3792c-8fa3-4ada-931d-a2e614b9561a",
   "metadata": {},
   "outputs": [],
   "source": [
    "def validaetage(age):\n",
    "    if age<0 :\n",
    "        raise validateage('entered age is negative')\n",
    "    elif age>200:\n",
    "        raise( validateage('entered age is very very high'))\n",
    "    else:\n",
    "        print('age is valid')"
   ]
  },
  {
   "cell_type": "code",
   "execution_count": 12,
   "id": "1969050e-a71f-4b7b-9b0d-5e8e18aba442",
   "metadata": {},
   "outputs": [
    {
     "name": "stdin",
     "output_type": "stream",
     "text": [
      "enter the age 98\n"
     ]
    },
    {
     "name": "stdout",
     "output_type": "stream",
     "text": [
      "age is valid\n"
     ]
    }
   ],
   "source": [
    "try:\n",
    "    age = int(input('enter the age'))\n",
    "    validaetage(age)\n",
    "except validateage as v:\n",
    "    print(v)"
   ]
  },
  {
   "cell_type": "markdown",
   "id": "703f970e-269d-4e45-b8b3-880e7ad46c15",
   "metadata": {},
   "source": [
    "Q.5 What are custom exceptions in python? Why do we need custom exceptions? Explain with example"
   ]
  },
  {
   "cell_type": "code",
   "execution_count": null,
   "id": "2f32a8bf-c505-45f5-a353-87c58dcc9366",
   "metadata": {},
   "outputs": [],
   "source": [
    "Ans Custom exceptions occured when their is a type of error is generated which is not defined in python \n",
    "    exception library. So we have to define the function for such type of error by our own.\n",
    "    Below is the custom function for error not defined in Exception library"
   ]
  },
  {
   "cell_type": "code",
   "execution_count": 13,
   "id": "415b0bb3-acd8-4100-9b8b-dce5c2cf6bdd",
   "metadata": {},
   "outputs": [],
   "source": [
    "class validateage(Exception):\n",
    "    def __init__(self,msg):\n",
    "        self.msg = msg"
   ]
  },
  {
   "cell_type": "code",
   "execution_count": 14,
   "id": "763582b7-a570-4c30-ae3b-9c4f4f71e461",
   "metadata": {},
   "outputs": [],
   "source": [
    "def validaetage(age):\n",
    "    if age<0 :\n",
    "        raise validateage('entered age is negative')\n",
    "    elif age>200:\n",
    "        raise( validateage('entered age is very very high'))\n",
    "    else:\n",
    "        print('age is valid')"
   ]
  },
  {
   "cell_type": "code",
   "execution_count": 15,
   "id": "f5d4d144-68f3-4e9d-a39e-e1f78ef4eed3",
   "metadata": {},
   "outputs": [
    {
     "name": "stdin",
     "output_type": "stream",
     "text": [
      "enter the age -123\n"
     ]
    },
    {
     "name": "stdout",
     "output_type": "stream",
     "text": [
      "entered age is negative\n"
     ]
    }
   ],
   "source": [
    "try:\n",
    "    age = int(input('enter the age'))\n",
    "    validaetage(age)\n",
    "except validateage as v:\n",
    "    print(v)"
   ]
  },
  {
   "cell_type": "markdown",
   "id": "9886a0d7-1937-4d68-ac57-589bf23ec6fd",
   "metadata": {},
   "source": [
    "Q.6 Create a custom exception class. Use this class to handle an exception."
   ]
  },
  {
   "cell_type": "code",
   "execution_count": 16,
   "id": "412d3ace-f64c-4b3d-b5e8-8fc3735fe26b",
   "metadata": {},
   "outputs": [
    {
     "name": "stdin",
     "output_type": "stream",
     "text": [
      "enter the age 345\n"
     ]
    },
    {
     "name": "stdout",
     "output_type": "stream",
     "text": [
      "entered age is very very high\n"
     ]
    }
   ],
   "source": [
    "class validateage(Exception):\n",
    "    def __init__(self,msg):\n",
    "        self.msg = msg\n",
    "def validaetage(age):\n",
    "    if age<0 :\n",
    "        raise validateage('entered age is negative')\n",
    "    elif age>200:\n",
    "        raise( validateage('entered age is very very high'))\n",
    "    else:\n",
    "        print('age is valid')\n",
    "try:\n",
    "    age = int(input('enter the age'))\n",
    "    validaetage(age)\n",
    "except validateage as v:\n",
    "    print(v)"
   ]
  }
 ],
 "metadata": {
  "kernelspec": {
   "display_name": "Python 3 (ipykernel)",
   "language": "python",
   "name": "python3"
  },
  "language_info": {
   "codemirror_mode": {
    "name": "ipython",
    "version": 3
   },
   "file_extension": ".py",
   "mimetype": "text/x-python",
   "name": "python",
   "nbconvert_exporter": "python",
   "pygments_lexer": "ipython3",
   "version": "3.10.8"
  }
 },
 "nbformat": 4,
 "nbformat_minor": 5
}
